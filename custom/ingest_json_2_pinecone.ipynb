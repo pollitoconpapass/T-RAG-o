{
 "cells": [
  {
   "cell_type": "code",
   "execution_count": 22,
   "metadata": {},
   "outputs": [
    {
     "name": "stderr",
     "output_type": "stream",
     "text": [
      "huggingface/tokenizers: The current process just got forked, after parallelism has already been used. Disabling parallelism to avoid deadlocks...\n",
      "To disable this warning, you can either:\n",
      "\t- Avoid using `tokenizers` before the fork if possible\n",
      "\t- Explicitly set the environment variable TOKENIZERS_PARALLELISM=(true | false)\n"
     ]
    },
    {
     "name": "stdout",
     "output_type": "stream",
     "text": [
      "Requirement already satisfied: pandas in /opt/anaconda3/lib/python3.12/site-packages (2.2.3)\n",
      "Requirement already satisfied: pyarrow in /opt/anaconda3/lib/python3.12/site-packages (18.1.0)\n",
      "Requirement already satisfied: datasets in /opt/anaconda3/lib/python3.12/site-packages (3.2.0)\n",
      "Requirement already satisfied: numpy>=1.26.0 in /opt/anaconda3/lib/python3.12/site-packages (from pandas) (1.26.4)\n",
      "Requirement already satisfied: python-dateutil>=2.8.2 in /opt/anaconda3/lib/python3.12/site-packages (from pandas) (2.9.0.post0)\n",
      "Requirement already satisfied: pytz>=2020.1 in /opt/anaconda3/lib/python3.12/site-packages (from pandas) (2024.2)\n",
      "Requirement already satisfied: tzdata>=2022.7 in /opt/anaconda3/lib/python3.12/site-packages (from pandas) (2024.2)\n",
      "Requirement already satisfied: filelock in /opt/anaconda3/lib/python3.12/site-packages (from datasets) (3.13.1)\n",
      "Requirement already satisfied: dill<0.3.9,>=0.3.0 in /opt/anaconda3/lib/python3.12/site-packages (from datasets) (0.3.8)\n",
      "Requirement already satisfied: requests>=2.32.2 in /opt/anaconda3/lib/python3.12/site-packages (from datasets) (2.32.3)\n",
      "Requirement already satisfied: tqdm>=4.66.3 in /opt/anaconda3/lib/python3.12/site-packages (from datasets) (4.66.6)\n",
      "Requirement already satisfied: xxhash in /opt/anaconda3/lib/python3.12/site-packages (from datasets) (3.5.0)\n",
      "Requirement already satisfied: multiprocess<0.70.17 in /opt/anaconda3/lib/python3.12/site-packages (from datasets) (0.70.16)\n",
      "Requirement already satisfied: fsspec<=2024.9.0,>=2023.1.0 in /opt/anaconda3/lib/python3.12/site-packages (from fsspec[http]<=2024.9.0,>=2023.1.0->datasets) (2024.6.1)\n",
      "Requirement already satisfied: aiohttp in /opt/anaconda3/lib/python3.12/site-packages (from datasets) (3.10.10)\n",
      "Requirement already satisfied: huggingface-hub>=0.23.0 in /opt/anaconda3/lib/python3.12/site-packages (from datasets) (0.23.2)\n",
      "Requirement already satisfied: packaging in /opt/anaconda3/lib/python3.12/site-packages (from datasets) (23.2)\n",
      "Requirement already satisfied: pyyaml>=5.1 in /opt/anaconda3/lib/python3.12/site-packages (from datasets) (6.0.2)\n",
      "Requirement already satisfied: aiohappyeyeballs>=2.3.0 in /opt/anaconda3/lib/python3.12/site-packages (from aiohttp->datasets) (2.4.3)\n",
      "Requirement already satisfied: aiosignal>=1.1.2 in /opt/anaconda3/lib/python3.12/site-packages (from aiohttp->datasets) (1.3.1)\n",
      "Requirement already satisfied: attrs>=17.3.0 in /opt/anaconda3/lib/python3.12/site-packages (from aiohttp->datasets) (24.2.0)\n",
      "Requirement already satisfied: frozenlist>=1.1.1 in /opt/anaconda3/lib/python3.12/site-packages (from aiohttp->datasets) (1.5.0)\n",
      "Requirement already satisfied: multidict<7.0,>=4.5 in /opt/anaconda3/lib/python3.12/site-packages (from aiohttp->datasets) (6.1.0)\n",
      "Requirement already satisfied: yarl<2.0,>=1.12.0 in /opt/anaconda3/lib/python3.12/site-packages (from aiohttp->datasets) (1.16.0)\n",
      "Requirement already satisfied: typing-extensions>=3.7.4.3 in /opt/anaconda3/lib/python3.12/site-packages (from huggingface-hub>=0.23.0->datasets) (4.12.2)\n",
      "Requirement already satisfied: six>=1.5 in /opt/anaconda3/lib/python3.12/site-packages (from python-dateutil>=2.8.2->pandas) (1.16.0)\n",
      "Requirement already satisfied: charset-normalizer<4,>=2 in /opt/anaconda3/lib/python3.12/site-packages (from requests>=2.32.2->datasets) (3.4.0)\n",
      "Requirement already satisfied: idna<4,>=2.5 in /opt/anaconda3/lib/python3.12/site-packages (from requests>=2.32.2->datasets) (3.10)\n",
      "Requirement already satisfied: urllib3<3,>=1.21.1 in /opt/anaconda3/lib/python3.12/site-packages (from requests>=2.32.2->datasets) (2.2.3)\n",
      "Requirement already satisfied: certifi>=2017.4.17 in /opt/anaconda3/lib/python3.12/site-packages (from requests>=2.32.2->datasets) (2024.8.30)\n",
      "Requirement already satisfied: propcache>=0.2.0 in /opt/anaconda3/lib/python3.12/site-packages (from yarl<2.0,>=1.12.0->aiohttp->datasets) (0.2.0)\n"
     ]
    },
    {
     "name": "stderr",
     "output_type": "stream",
     "text": [
      "huggingface/tokenizers: The current process just got forked, after parallelism has already been used. Disabling parallelism to avoid deadlocks...\n",
      "To disable this warning, you can either:\n",
      "\t- Avoid using `tokenizers` before the fork if possible\n",
      "\t- Explicitly set the environment variable TOKENIZERS_PARALLELISM=(true | false)\n"
     ]
    },
    {
     "name": "stdout",
     "output_type": "stream",
     "text": [
      "Requirement already satisfied: pinecone-client in /opt/anaconda3/lib/python3.12/site-packages (5.0.1)\n",
      "Requirement already satisfied: sentence-transformers in /opt/anaconda3/lib/python3.12/site-packages (3.2.1)\n",
      "Requirement already satisfied: certifi>=2019.11.17 in /opt/anaconda3/lib/python3.12/site-packages (from pinecone-client) (2024.8.30)\n",
      "Requirement already satisfied: pinecone-plugin-inference<2.0.0,>=1.0.3 in /opt/anaconda3/lib/python3.12/site-packages (from pinecone-client) (1.1.0)\n",
      "Requirement already satisfied: pinecone-plugin-interface<0.0.8,>=0.0.7 in /opt/anaconda3/lib/python3.12/site-packages (from pinecone-client) (0.0.7)\n",
      "Requirement already satisfied: tqdm>=4.64.1 in /opt/anaconda3/lib/python3.12/site-packages (from pinecone-client) (4.66.6)\n",
      "Requirement already satisfied: typing-extensions>=3.7.4 in /opt/anaconda3/lib/python3.12/site-packages (from pinecone-client) (4.12.2)\n",
      "Requirement already satisfied: urllib3>=1.26.5 in /opt/anaconda3/lib/python3.12/site-packages (from pinecone-client) (2.2.3)\n",
      "Requirement already satisfied: transformers<5.0.0,>=4.41.0 in /opt/anaconda3/lib/python3.12/site-packages (from sentence-transformers) (4.44.2)\n",
      "Requirement already satisfied: torch>=1.11.0 in /opt/anaconda3/lib/python3.12/site-packages (from sentence-transformers) (2.4.0)\n",
      "Requirement already satisfied: scikit-learn in /opt/anaconda3/lib/python3.12/site-packages (from sentence-transformers) (1.5.1)\n",
      "Requirement already satisfied: scipy in /opt/anaconda3/lib/python3.12/site-packages (from sentence-transformers) (1.13.1)\n",
      "Requirement already satisfied: huggingface-hub>=0.20.0 in /opt/anaconda3/lib/python3.12/site-packages (from sentence-transformers) (0.23.2)\n",
      "Requirement already satisfied: Pillow in /opt/anaconda3/lib/python3.12/site-packages (from sentence-transformers) (11.0.0)\n",
      "Requirement already satisfied: filelock in /opt/anaconda3/lib/python3.12/site-packages (from huggingface-hub>=0.20.0->sentence-transformers) (3.13.1)\n",
      "Requirement already satisfied: fsspec>=2023.5.0 in /opt/anaconda3/lib/python3.12/site-packages (from huggingface-hub>=0.20.0->sentence-transformers) (2024.6.1)\n",
      "Requirement already satisfied: packaging>=20.9 in /opt/anaconda3/lib/python3.12/site-packages (from huggingface-hub>=0.20.0->sentence-transformers) (23.2)\n",
      "Requirement already satisfied: pyyaml>=5.1 in /opt/anaconda3/lib/python3.12/site-packages (from huggingface-hub>=0.20.0->sentence-transformers) (6.0.2)\n",
      "Requirement already satisfied: requests in /opt/anaconda3/lib/python3.12/site-packages (from huggingface-hub>=0.20.0->sentence-transformers) (2.32.3)\n",
      "Requirement already satisfied: sympy in /opt/anaconda3/lib/python3.12/site-packages (from torch>=1.11.0->sentence-transformers) (1.12)\n",
      "Requirement already satisfied: networkx in /opt/anaconda3/lib/python3.12/site-packages (from torch>=1.11.0->sentence-transformers) (3.3)\n",
      "Requirement already satisfied: jinja2 in /opt/anaconda3/lib/python3.12/site-packages (from torch>=1.11.0->sentence-transformers) (3.1.4)\n",
      "Requirement already satisfied: setuptools in /opt/anaconda3/lib/python3.12/site-packages (from torch>=1.11.0->sentence-transformers) (72.1.0)\n",
      "Requirement already satisfied: numpy>=1.17 in /opt/anaconda3/lib/python3.12/site-packages (from transformers<5.0.0,>=4.41.0->sentence-transformers) (1.26.4)\n",
      "Requirement already satisfied: regex!=2019.12.17 in /opt/anaconda3/lib/python3.12/site-packages (from transformers<5.0.0,>=4.41.0->sentence-transformers) (2024.7.24)\n",
      "Requirement already satisfied: safetensors>=0.4.1 in /opt/anaconda3/lib/python3.12/site-packages (from transformers<5.0.0,>=4.41.0->sentence-transformers) (0.4.5)\n",
      "Requirement already satisfied: tokenizers<0.20,>=0.19 in /opt/anaconda3/lib/python3.12/site-packages (from transformers<5.0.0,>=4.41.0->sentence-transformers) (0.19.1)\n",
      "Requirement already satisfied: joblib>=1.2.0 in /opt/anaconda3/lib/python3.12/site-packages (from scikit-learn->sentence-transformers) (1.4.2)\n",
      "Requirement already satisfied: threadpoolctl>=3.1.0 in /opt/anaconda3/lib/python3.12/site-packages (from scikit-learn->sentence-transformers) (3.5.0)\n",
      "Requirement already satisfied: MarkupSafe>=2.0 in /opt/anaconda3/lib/python3.12/site-packages (from jinja2->torch>=1.11.0->sentence-transformers) (3.0.2)\n",
      "Requirement already satisfied: charset-normalizer<4,>=2 in /opt/anaconda3/lib/python3.12/site-packages (from requests->huggingface-hub>=0.20.0->sentence-transformers) (3.4.0)\n",
      "Requirement already satisfied: idna<4,>=2.5 in /opt/anaconda3/lib/python3.12/site-packages (from requests->huggingface-hub>=0.20.0->sentence-transformers) (3.10)\n",
      "Requirement already satisfied: mpmath>=0.19 in /opt/anaconda3/lib/python3.12/site-packages (from sympy->torch>=1.11.0->sentence-transformers) (1.3.0)\n"
     ]
    }
   ],
   "source": [
    "!pip install --upgrade pandas pyarrow datasets\n",
    "!pip install pinecone-client sentence-transformers"
   ]
  },
  {
   "cell_type": "code",
   "execution_count": 23,
   "metadata": {},
   "outputs": [],
   "source": [
    "import os\n",
    "import json\n",
    "from dotenv import load_dotenv\n",
    "from pinecone import Pinecone\n",
    "from sentence_transformers import SentenceTransformer"
   ]
  },
  {
   "cell_type": "code",
   "execution_count": 24,
   "metadata": {},
   "outputs": [
    {
     "data": {
      "text/plain": [
       "True"
      ]
     },
     "execution_count": 24,
     "metadata": {},
     "output_type": "execute_result"
    }
   ],
   "source": [
    "load_dotenv(\"../.env\")"
   ]
  },
  {
   "cell_type": "code",
   "execution_count": 25,
   "metadata": {},
   "outputs": [],
   "source": [
    "# === GENERAL CONFIG ===\n",
    "PINECONE_API_KEY = os.getenv('PINECONE_API_KEY')\n",
    "EMBEDDING_MODEL = \"sentence-transformers/all-MiniLM-L6-v2\""
   ]
  },
  {
   "cell_type": "markdown",
   "metadata": {},
   "source": [
    "## For Spanish to Quechua"
   ]
  },
  {
   "cell_type": "code",
   "execution_count": 26,
   "metadata": {},
   "outputs": [],
   "source": [
    "FIRST_PINECONE_INDEX_NAME = \"spa-quz-translation-index\"\n",
    "FIRST_SRC_LANGUAGE_KEY= \"spanish\"\n",
    "FIRST_TGT_LANGUAGE_KEY = \"cuzco quechua\""
   ]
  },
  {
   "cell_type": "code",
   "execution_count": 27,
   "metadata": {},
   "outputs": [],
   "source": [
    "model = SentenceTransformer(EMBEDDING_MODEL)\n",
    "pc = Pinecone(api_key=PINECONE_API_KEY)"
   ]
  },
  {
   "cell_type": "code",
   "execution_count": 28,
   "metadata": {},
   "outputs": [
    {
     "name": "stdout",
     "output_type": "stream",
     "text": [
      "Initial index stats: {'dimension': 384,\n",
      " 'index_fullness': 0.0,\n",
      " 'namespaces': {'': {'vector_count': 106432}},\n",
      " 'total_vector_count': 106432}\n"
     ]
    }
   ],
   "source": [
    "first_index = pc.Index(FIRST_PINECONE_INDEX_NAME)\n",
    "initial_stats = first_index.describe_index_stats()\n",
    "print(f\"Initial index stats: {initial_stats}\")"
   ]
  },
  {
   "cell_type": "code",
   "execution_count": 42,
   "metadata": {},
   "outputs": [
    {
     "name": "stdout",
     "output_type": "stream",
     "text": [
      "Source sentence: Nombre de los colores en quechua\n",
      "Target sentence: Llimpikunapa sutin: Puka, Q'ello, Anqas, Q'omer, Yana, Yuraq\n",
      "Upsert response for ID 1: {'upserted_count': 1}\n",
      "Pinecone index created and populated successfully.\n"
     ]
    }
   ],
   "source": [
    "id = 0\n",
    "with open('./words.json', 'r') as f:\n",
    "    words = json.load(f)\n",
    "\n",
    "    for word in words:\n",
    "        source_sentence = word[FIRST_SRC_LANGUAGE_KEY]\n",
    "        target_sentence = word[FIRST_TGT_LANGUAGE_KEY]\n",
    "        source_sentence_embedding = model.encode(source_sentence).tolist()\n",
    "\n",
    "        print(f\"Source sentence: {source_sentence}\")\n",
    "        print(f\"Target sentence: {target_sentence}\")\n",
    "\n",
    "        response = first_index.upsert(vectors=[(str(id), source_sentence_embedding, {\"source_language\": FIRST_SRC_LANGUAGE_KEY, \n",
    "                                                              \"source_sentence\": source_sentence, \n",
    "                                                              \"target_language\": FIRST_TGT_LANGUAGE_KEY, \n",
    "                                                              \"target_sentence\": target_sentence})])\n",
    "        \n",
    "        id+=1\n",
    "        print(f\"Upsert response for ID {id}: {response}\")\n",
    "\n",
    "print(\"Pinecone index created and populated successfully.\")"
   ]
  },
  {
   "cell_type": "code",
   "execution_count": 43,
   "metadata": {},
   "outputs": [
    {
     "name": "stdout",
     "output_type": "stream",
     "text": [
      "Final index stats: {'dimension': 384,\n",
      " 'index_fullness': 0.0,\n",
      " 'namespaces': {'': {'vector_count': 106432}},\n",
      " 'total_vector_count': 106432}\n"
     ]
    }
   ],
   "source": [
    "stats = first_index.describe_index_stats()\n",
    "print(f\"Final index stats: {stats}\")"
   ]
  },
  {
   "cell_type": "code",
   "execution_count": 44,
   "metadata": {},
   "outputs": [
    {
     "name": "stdout",
     "output_type": "stream",
     "text": [
      "Query response: {'matches': [{'id': '0',\n",
      "              'metadata': {'source_language': 'spanish',\n",
      "                           'source_sentence': 'Nombre de los colores en '\n",
      "                                              'quechua',\n",
      "                           'target_language': 'cuzco quechua',\n",
      "                           'target_sentence': 'Llimpikunapa sutin: Puka, '\n",
      "                                              \"Q'ello, Anqas, Q'omer, Yana, \"\n",
      "                                              'Yuraq'},\n",
      "              'score': 0.98862958,\n",
      "              'values': []},\n",
      "             {'id': '93349',\n",
      "              'metadata': {'source_language': 'spanish',\n",
      "                           'source_sentence': 'Cómo nos influyen los colores, '\n",
      "                                              '1 / 10',\n",
      "                           'target_language': 'cuzco quechua',\n",
      "                           'target_sentence': 'Makilla kaychis Diosmanta '\n",
      "                                              'mañakunaykichispaq ”, 15 / 11'},\n",
      "              'score': 0.61893,\n",
      "              'values': []},\n",
      "             {'id': '129',\n",
      "              'metadata': {'source_language': 'spanish',\n",
      "                           'source_sentence': 'sudamericanos; su nombre '\n",
      "                                              'primigenio es Wik’uña, '\n",
      "                                              'sustantivo quechua.',\n",
      "                           'target_language': 'cuzco quechua',\n",
      "                           'target_sentence': 'sudamericanos nisqapi; sutin '\n",
      "                                              'runa simipi Wik’uña ninku.'},\n",
      "              'score': 0.614091396,\n",
      "              'values': []},\n",
      "             {'id': '86719',\n",
      "              'metadata': {'source_language': 'spanish',\n",
      "                           'source_sentence': 'A ella le encanta, así que '\n",
      "                                              'elabora coloridas frazadas para '\n",
      "                                              'los bebés de la congregación y '\n",
      "                                              'también para los mayores.',\n",
      "                           'target_language': 'cuzco quechua',\n",
      "                           'target_sentence': 'Payqa kusatan chaykunata ruwan '\n",
      "                                              'chaymi wawakunapaq kurak '\n",
      "                                              'iñiqmasikunapaqpas imaymana '\n",
      "                                              'color frazadillakunata ruwan.'},\n",
      "              'score': 0.571882188,\n",
      "              'values': []}],\n",
      " 'namespace': '',\n",
      " 'usage': {'read_units': 6}}\n"
     ]
    }
   ],
   "source": [
    "query_embedding = model.encode(\"Nombre de colores en quechua\").tolist()\n",
    "query_response = first_index.query(\n",
    "    vector=query_embedding,\n",
    "    top_k=4,\n",
    "    include_metadata=True\n",
    ")\n",
    "print(f\"Query response: {query_response}\")"
   ]
  },
  {
   "cell_type": "markdown",
   "metadata": {},
   "source": [
    "## For the other way around, Quechua to Spanish"
   ]
  },
  {
   "cell_type": "code",
   "execution_count": 45,
   "metadata": {},
   "outputs": [],
   "source": [
    "NEW_PINECONE_INDEX_NAME = \"quz-spa-translation-index\"\n",
    "NEW_SRC_LANGUAGE_KEY= \"cuzco quechua\"\n",
    "NEW_TGT_LANGUAGE_KEY = \"spanish\""
   ]
  },
  {
   "cell_type": "code",
   "execution_count": 46,
   "metadata": {},
   "outputs": [],
   "source": [
    "new_index = pc.Index(NEW_PINECONE_INDEX_NAME)"
   ]
  },
  {
   "cell_type": "code",
   "execution_count": 47,
   "metadata": {},
   "outputs": [
    {
     "name": "stdout",
     "output_type": "stream",
     "text": [
      "Source sentence: Llimpikunapa sutin: Puka, Q'ello, Anqas, Q'omer, Yana, Yuraq\n",
      "Target sentence: Nombre de los colores en quechua\n",
      "Upsert response for ID 1: {'upserted_count': 1}\n",
      "Pinecone index created and populated successfully.\n"
     ]
    }
   ],
   "source": [
    "id = 0\n",
    "with open('./words.json', 'r') as f:\n",
    "    words = json.load(f)\n",
    "\n",
    "    for word in words:\n",
    "        source_sentence = word[NEW_SRC_LANGUAGE_KEY]\n",
    "        target_sentence = word[NEW_TGT_LANGUAGE_KEY]\n",
    "        source_sentence_embedding = model.encode(source_sentence).tolist()\n",
    "\n",
    "        print(f\"Source sentence: {source_sentence}\")\n",
    "        print(f\"Target sentence: {target_sentence}\")\n",
    "\n",
    "        response = new_index.upsert(vectors=[(str(id), source_sentence_embedding, {\"source_language\": NEW_SRC_LANGUAGE_KEY, \n",
    "                                                              \"source_sentence\": source_sentence, \n",
    "                                                              \"target_language\": NEW_TGT_LANGUAGE_KEY, \n",
    "                                                              \"target_sentence\": target_sentence})])\n",
    "        \n",
    "        id+=1\n",
    "        print(f\"Upsert response for ID {id}: {response}\")\n",
    "\n",
    "print(\"Pinecone index created and populated successfully.\")"
   ]
  },
  {
   "cell_type": "code",
   "execution_count": 48,
   "metadata": {},
   "outputs": [
    {
     "name": "stdout",
     "output_type": "stream",
     "text": [
      "Query response: {'matches': [{'id': '2',\n",
      "              'metadata': {'source_language': 'cuzco quechua',\n",
      "                           'source_sentence': \"Llinphikunata: Puka, Q'ello, \"\n",
      "                                              \"Anqas, Q'omer, Yana, Yuraq\",\n",
      "                           'target_language': 'spanish',\n",
      "                           'target_sentence': 'Los colores son: rojo, '\n",
      "                                              'amarillo, azul, verde, negro y '\n",
      "                                              'blanco'},\n",
      "              'score': 1.00000012,\n",
      "              'values': []},\n",
      "             {'id': '539',\n",
      "              'metadata': {'source_language': 'cuzco quechua',\n",
      "                           'source_sentence': 'LLINPHIKUNA  Manan wakin '\n",
      "                                              \"llinphikunata mich'uspa \"\n",
      "                                              \"horqonchismanchu q'ello, puka, \"\n",
      "                                              'anqas    Iskay ñeqe llinphikuna '\n",
      "                                              \"q'ellmo, sani, q’omer; kay \"\n",
      "                                              'llinphikunata horqosman ñawpaq '\n",
      "                                              'llinphikunawan chaqruspa.   '\n",
      "                                              \"CHAQRUNA Q'ellowan pukawan \"\n",
      "                                              \"lloqsin q'elmo Q’ellowan \"\n",
      "                                              'anqasman lloqsin q’omer '\n",
      "                                              'Anqaswan q’omerwan lloqsin '\n",
      "                                              'sani   RUPHA LLINPHIKUNA '\n",
      "                                              \"Q'ellowan, q'ellmowan, pukawan \"\n",
      "                                              \"ima  CHIRI LLINPHIKUNA Q'omer, \"\n",
      "                                              'anqas, sani',\n",
      "                           'target_language': 'spanish',\n",
      "                           'target_sentence': 'LOS COLORES  COLORES PRIMARIOS '\n",
      "                                              'Son colores primarios los '\n",
      "                                              'colores que no se puede obtener '\n",
      "                                              'con mezcla de otros: amarillo, '\n",
      "                                              'rojo, azul.   COLORES '\n",
      "                                              'SECUNDARIOS Naranja, violeta, '\n",
      "                                              'verde estos colores se obtienen '\n",
      "                                              'de la mezcla de los colores '\n",
      "                                              'primarios  COMBINACIONES '\n",
      "                                              'amarillo con rojo resulta\\t'\n",
      "                                              'naranja amarillo con azul '\n",
      "                                              'resulta verde azul con amarillo '\n",
      "                                              'resulta violeta    COLORES '\n",
      "                                              'CÁLIDOS AMARILLO, naranja y '\n",
      "                                              'rojo  COLORES FRÍOS Verde, '\n",
      "                                              'azul, violeta'},\n",
      "              'score': 0.758769751,\n",
      "              'values': []},\n",
      "             {'id': '17287',\n",
      "              'metadata': {'source_language': 'cuzco quechua',\n",
      "                           'source_sentence': '“Yanqa ” nisqa simiqa mana '\n",
      "                                              'imapaq valeq, ch’usaq, qasi, '\n",
      "                                              'tukukuqlla ninantan nin (Ecl.',\n",
      "                           'target_language': 'spanish',\n",
      "                           'target_sentence': 'Dicho término comunica la idea '\n",
      "                                              'de algo vacío, inútil, vano, '\n",
      "                                              'insustancial y sin valor '\n",
      "                                              'duradero.'},\n",
      "              'score': 0.695684731,\n",
      "              'values': []},\n",
      "             {'id': '81471',\n",
      "              'metadata': {'source_language': 'cuzco quechua',\n",
      "                           'source_sentence': 'Tayta - mamayqa runamasinkuta '\n",
      "                                              'munakuq, allin llank’aq, '\n",
      "                                              'honradon karqanku. Manaña '\n",
      "                                              'qhapaqchu karqayku chaypas '\n",
      "                                              'kaqmi ima necesitasqaykupas.',\n",
      "                           'target_language': 'spanish',\n",
      "                           'target_sentence': 'Mis padres eran personas '\n",
      "                                              'honradas y trabajadoras que '\n",
      "                                              'amaban al prójimo; no éramos '\n",
      "                                              'ricos, pero siempre tuvimos lo '\n",
      "                                              'necesario.'},\n",
      "              'score': 0.685230732,\n",
      "              'values': []}],\n",
      " 'namespace': '',\n",
      " 'usage': {'read_units': 6}}\n"
     ]
    }
   ],
   "source": [
    "query_embedding = model.encode(\"Llinphikunata: Puka, Q'ello, Anqas, Q'omer, Yana, Yuraq\").tolist()\n",
    "query_response = new_index.query(\n",
    "    vector=query_embedding,\n",
    "    top_k=4,\n",
    "    include_metadata=True\n",
    ")\n",
    "print(f\"Query response: {query_response}\")"
   ]
  }
 ],
 "metadata": {
  "kernelspec": {
   "display_name": "Python 3",
   "language": "python",
   "name": "python3"
  },
  "language_info": {
   "codemirror_mode": {
    "name": "ipython",
    "version": 3
   },
   "file_extension": ".py",
   "mimetype": "text/x-python",
   "name": "python",
   "nbconvert_exporter": "python",
   "pygments_lexer": "ipython3",
   "version": "3.12.2"
  }
 },
 "nbformat": 4,
 "nbformat_minor": 2
}
